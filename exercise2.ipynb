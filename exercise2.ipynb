{
 "cells": [
  {
   "cell_type": "markdown",
   "metadata": {},
   "source": [
    "Write a code fragment to revert an array a using a for-loop (or better yet: a while-loop.) Don’t just use a library or inbuilt function like reverse(a)."
   ]
  },
  {
   "cell_type": "code",
   "execution_count": 3,
   "metadata": {},
   "outputs": [
    {
     "data": {
      "text/plain": [
       "[4, 3, 2, 1]"
      ]
     },
     "execution_count": 3,
     "metadata": {},
     "output_type": "execute_result"
    }
   ],
   "source": [
    "a = [1,2,3,4]\n",
    "b = []\n",
    "count =-1\n",
    "while len(b) != len(a):\n",
    "    b.append(a[count])\n",
    "    count-=1\n",
    "b"
   ]
  },
  {
   "cell_type": "markdown",
   "metadata": {},
   "source": [
    "How would you solve the following task: The string S consists of as and bs, like this: abbbaabababa.\n",
    "\n",
    "I want to change the bs to 1s, so I want a new string T that looks like this: a111aa1a1a1a.\n",
    "I want to change the bs alternatingly to 0 and 1. In my example, the resulting string should be a101aa0a1a0a."
   ]
  },
  {
   "cell_type": "code",
   "execution_count": 8,
   "metadata": {},
   "outputs": [
    {
     "name": "stdout",
     "output_type": "stream",
     "text": [
      "a111aa1a1a1a\n",
      "a010aa1a0a1a\n"
     ]
    }
   ],
   "source": [
    "input_string = \"abbbaabababa\"\n",
    "char_list = list(input_string)\n",
    "count_b = 0\n",
    "b =[]\n",
    "\n",
    "while len(b) != len(char_list):\n",
    "    if char_list[count_b] == \"a\":\n",
    "        b.append(\"a\")\n",
    "    elif char_list[count_b] == \"b\":\n",
    "        b.append(\"1\")\n",
    "    count_b+=1\n",
    "print(''.join(b))\n",
    "\n",
    "\n",
    "for i in range(len(char_list)):\n",
    "    if char_list[i] == \"b\":\n",
    "        count_b+=1\n",
    "        if count_b % 2 == 1:\n",
    "            char_list[i] = \"0\"\n",
    "        if count_b % 2 == 0:\n",
    "            char_list[i] = \"1\"\n",
    "converting = ''.join(char_list)\n",
    "print(converting)"
   ]
  },
  {
   "cell_type": "code",
   "execution_count": 13,
   "metadata": {},
   "outputs": [
    {
     "data": {
      "text/plain": [
       "0"
      ]
     },
     "execution_count": 13,
     "metadata": {},
     "output_type": "execute_result"
    }
   ],
   "source": [
    "x = [[0] * 3] * 3\n",
    "x[0][0] = 5\n",
    "x[0][1]"
   ]
  },
  {
   "cell_type": "code",
   "execution_count": 22,
   "metadata": {},
   "outputs": [
    {
     "data": {
      "text/plain": [
       "[2, 3, 4, 5, 6, 7]"
      ]
     },
     "execution_count": 22,
     "metadata": {},
     "output_type": "execute_result"
    }
   ],
   "source": [
    "a=[]\n",
    "N=50\n",
    "for i in range(2, int(N**0.5)+1):\n",
    "    if N%i ==0:\n",
    "        False\n",
    "    a.append(i)\n",
    "a\n"
   ]
  },
  {
   "cell_type": "code",
   "execution_count": null,
   "metadata": {},
   "outputs": [],
   "source": []
  },
  {
   "cell_type": "code",
   "execution_count": null,
   "metadata": {},
   "outputs": [],
   "source": []
  }
 ],
 "metadata": {
  "kernelspec": {
   "display_name": "base",
   "language": "python",
   "name": "python3"
  },
  "language_info": {
   "codemirror_mode": {
    "name": "ipython",
    "version": 3
   },
   "file_extension": ".py",
   "mimetype": "text/x-python",
   "name": "python",
   "nbconvert_exporter": "python",
   "pygments_lexer": "ipython3",
   "version": "3.12.8"
  }
 },
 "nbformat": 4,
 "nbformat_minor": 2
}
