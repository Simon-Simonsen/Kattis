{
 "cells": [
  {
   "cell_type": "code",
   "execution_count": 3,
   "metadata": {},
   "outputs": [
    {
     "name": "stdout",
     "output_type": "stream",
     "text": [
      "4\n",
      "3\n",
      "3\n",
      "4\n"
     ]
    }
   ],
   "source": [
    "def dhondt_method(parties, seats, votes):\n",
    "    allocations = [0] * parties\n",
    "    quotients = votes[:]  \n",
    "\n",
    "    for _ in range(seats):\n",
    "        max_index = quotients.index(max(quotients))  #\n",
    "        allocations[max_index] += 1\n",
    "        quotients[max_index] = votes[max_index] / (allocations[max_index] + 1) \n",
    "\n",
    "    return allocations\n",
    "\n",
    "#ge the first two input in line 1\n",
    "p, s = map(int, input().split()) \n",
    "#get the votes \n",
    "votes = [int(input()) for _ in range(p)]  \n",
    "\n",
    "#calculate the results, using the dhondt_method in python\n",
    "result = dhondt_method(p, s, votes)\n",
    "\n",
    "#print the output\n",
    "for seats in result:\n",
    "    print(seats)\n"
   ]
  },
  {
   "cell_type": "code",
   "execution_count": null,
   "metadata": {},
   "outputs": [],
   "source": []
  },
  {
   "cell_type": "code",
   "execution_count": null,
   "metadata": {},
   "outputs": [],
   "source": []
  }
 ],
 "metadata": {
  "kernelspec": {
   "display_name": "base",
   "language": "python",
   "name": "python3"
  },
  "language_info": {
   "codemirror_mode": {
    "name": "ipython",
    "version": 3
   },
   "file_extension": ".py",
   "mimetype": "text/x-python",
   "name": "python",
   "nbconvert_exporter": "python",
   "pygments_lexer": "ipython3",
   "version": "3.12.8"
  }
 },
 "nbformat": 4,
 "nbformat_minor": 2
}
