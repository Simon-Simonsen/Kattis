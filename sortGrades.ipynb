{
 "cells": [
  {
   "cell_type": "markdown",
   "metadata": {},
   "source": [
    "Sorting grades\n"
   ]
  },
  {
   "cell_type": "code",
   "execution_count": 5,
   "metadata": {},
   "outputs": [
    {
     "name": "stdout",
     "output_type": "stream",
     "text": [
      "bosse\n",
      "andreas\n",
      "abelone\n",
      "antonina\n",
      "anton\n"
     ]
    }
   ],
   "source": [
    "import re\n",
    "\n",
    "n = int(input())\n",
    "students = []\n",
    "\n",
    "grade_priority = {\n",
    "    \"A\": 6, \"B\": 5, \"C\": 4, \"D\": 3, \"E\": 2, \"FX\": 1, \"F\": 0\n",
    "}\n",
    "\n",
    "for _ in range(n):\n",
    "    name, grade = input().rsplit(maxsplit = 1)\n",
    "    students.append((name,grade))\n",
    "\n",
    "\n",
    "\n",
    "def grade_key(student):\n",
    "    name, grade = student\n",
    "    \n",
    "    # Extract base grade and modifier part\n",
    "    match = re.match(r\"([A-FX]+)([+-]*)\", grade)\n",
    "    base_grade = match.group(1)  # Main grade (A, B, ..., FX)\n",
    "    modifiers = match.group(2)    # The sequence of + or - (e.g., \"++++\")\n",
    "\n",
    "    # Get base grade priority (higher is better)\n",
    "    primary_sort = grade_priority[base_grade]\n",
    "\n",
    "    # Count + and - occurrences\n",
    "    plus_count = modifiers.count(\"+\")\n",
    "    minus_count = modifiers.count(\"-\")\n",
    "\n",
    "    # Calculate net modifier impact\n",
    "    secondary_sort = plus_count - minus_count  # More + increases, more - decreases\n",
    "\n",
    "    return (-primary_sort, -secondary_sort, name)\n",
    "\n",
    "students.sort(key=grade_key)\n",
    "\n",
    "\n",
    "for name, _ in students:\n",
    "    print(name)\n",
    "\n",
    "\n"
   ]
  },
  {
   "cell_type": "code",
   "execution_count": null,
   "metadata": {},
   "outputs": [],
   "source": []
  }
 ],
 "metadata": {
  "kernelspec": {
   "display_name": "base",
   "language": "python",
   "name": "python3"
  },
  "language_info": {
   "codemirror_mode": {
    "name": "ipython",
    "version": 3
   },
   "file_extension": ".py",
   "mimetype": "text/x-python",
   "name": "python",
   "nbconvert_exporter": "python",
   "pygments_lexer": "ipython3",
   "version": "3.12.8"
  }
 },
 "nbformat": 4,
 "nbformat_minor": 2
}
