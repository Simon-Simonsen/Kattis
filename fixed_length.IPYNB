{
 "cells": [
  {
   "cell_type": "markdown",
   "metadata": {},
   "source": [
    "B to 01"
   ]
  },
  {
   "cell_type": "code",
   "execution_count": 3,
   "metadata": {},
   "outputs": [
    {
     "name": "stdout",
     "output_type": "stream",
     "text": [
      "aa010cc\n"
     ]
    }
   ],
   "source": [
    "input_string = input()\n",
    "char_list = list(input_string)\n",
    "count_b = 0\n",
    "\n",
    "for i in range(len(char_list)):\n",
    "    if char_list[i] == \"b\":\n",
    "        count_b+=1\n",
    "        if count_b % 2 == 1:\n",
    "            char_list[i] = \"0\"\n",
    "        if count_b % 2 == 0:\n",
    "            char_list[i] = \"1\"\n",
    "converting = ''.join(char_list)\n",
    "print(converting)"
   ]
  },
  {
   "cell_type": "markdown",
   "metadata": {},
   "source": [
    "Coffee cup combo"
   ]
  },
  {
   "cell_type": "code",
   "execution_count": 17,
   "metadata": {},
   "outputs": [
    {
     "name": "stdout",
     "output_type": "stream",
     "text": [
      "7\n"
     ]
    }
   ],
   "source": [
    "\n",
    "amount_of_lectures = input()\n",
    "lectures = list(input())\n",
    "coffee_cups = 0\n",
    "amount_of_lectures = 0\n",
    "\n",
    "for i in range(len(lectures)):\n",
    "    if lectures[i] == \"1\":\n",
    "        coffee_cups = 2\n",
    "        amount_of_lectures +=1\n",
    "    elif coffee_cups >0:\n",
    "        amount_of_lectures +=1\n",
    "        coffee_cups -=1\n",
    "\n",
    "\n",
    "print(amount_of_lectures)\n",
    "\n",
    "\n",
    "\n"
   ]
  },
  {
   "cell_type": "markdown",
   "metadata": {},
   "source": [
    "Knights!!!"
   ]
  },
  {
   "cell_type": "code",
   "execution_count": 25,
   "metadata": {},
   "outputs": [
    {
     "name": "stdout",
     "output_type": "stream",
     "text": [
      "3\n",
      "2\n",
      "1\n"
     ]
    }
   ],
   "source": [
    "n_knights = int(input())\n",
    "\n",
    "knights = []\n",
    "for _ in range(n_knights):\n",
    "    health, strength = map(int, input().split())\n",
    "    knights.append([health,strength])\n",
    "for i in range(n_knights - 1):\n",
    "    current_health, current_strength = knights[i]\n",
    "    next_health, next_strength = knights[i + 1]\n",
    "\n",
    "    # Knight i attacks Knight i+1\n",
    "    next_health -= current_strength\n",
    "\n",
    "    if next_health <= 0:\n",
    "        # Knight i+1 is defeated\n",
    "        knights[i + 1][0] = 0  # Set next knight's health to 0\n",
    "    else:\n",
    "        knights[i + 1][0] = next_health\n",
    "        # Knight i+1 counterattacks\n",
    "        current_health -= next_strength\n",
    "        knights[i][0] = max(current_health, 0)  # Update current knight's health\n",
    "\n",
    "        # If the current knight is defeated, they can't continue\n",
    "        if current_health <= 0:\n",
    "            break\n",
    "for health, _ in knights:\n",
    "    print(health)\n",
    "    \n",
    "    \n",
    "\n",
    "\n",
    "    "
   ]
  },
  {
   "cell_type": "code",
   "execution_count": null,
   "metadata": {},
   "outputs": [],
   "source": []
  }
 ],
 "metadata": {
  "kernelspec": {
   "display_name": "base",
   "language": "python",
   "name": "python3"
  },
  "language_info": {
   "codemirror_mode": {
    "name": "ipython",
    "version": 3
   },
   "file_extension": ".py",
   "mimetype": "text/x-python",
   "name": "python",
   "nbconvert_exporter": "python",
   "pygments_lexer": "ipython3",
   "version": "3.12.4"
  }
 },
 "nbformat": 4,
 "nbformat_minor": 2
}
