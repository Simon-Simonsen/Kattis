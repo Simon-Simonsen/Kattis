{
 "cells": [
  {
   "cell_type": "markdown",
   "metadata": {},
   "source": [
    "B to 01"
   ]
  },
  {
   "cell_type": "code",
   "execution_count": 3,
   "metadata": {},
   "outputs": [
    {
     "name": "stdout",
     "output_type": "stream",
     "text": [
      "aa010cc\n"
     ]
    }
   ],
   "source": [
    "input_string = input()\n",
    "char_list = list(input_string)\n",
    "count_b = 0\n",
    "\n",
    "for i in range(len(char_list)):\n",
    "    if char_list[i] == \"b\":\n",
    "        count_b+=1\n",
    "        if count_b % 2 == 1:\n",
    "            char_list[i] = \"0\"\n",
    "        if count_b % 2 == 0:\n",
    "            char_list[i] = \"1\"\n",
    "converting = ''.join(char_list)\n",
    "print(converting)"
   ]
  },
  {
   "cell_type": "markdown",
   "metadata": {},
   "source": [
    "Coffee cup combo"
   ]
  },
  {
   "cell_type": "code",
   "execution_count": 17,
   "metadata": {},
   "outputs": [
    {
     "name": "stdout",
     "output_type": "stream",
     "text": [
      "7\n"
     ]
    }
   ],
   "source": [
    "\n",
    "amount_of_lectures = input()\n",
    "lectures = list(input())\n",
    "coffee_cups = 0\n",
    "amount_of_lectures = 0\n",
    "\n",
    "for i in range(len(lectures)):\n",
    "    if lectures[i] == \"1\":\n",
    "        coffee_cups = 2\n",
    "        amount_of_lectures +=1\n",
    "    elif coffee_cups >0:\n",
    "        amount_of_lectures +=1\n",
    "        coffee_cups -=1\n",
    "\n",
    "\n",
    "print(amount_of_lectures)\n",
    "\n",
    "\n",
    "\n"
   ]
  },
  {
   "cell_type": "markdown",
   "metadata": {},
   "source": [
    "Knights!!!"
   ]
  },
  {
   "cell_type": "code",
   "execution_count": 25,
   "metadata": {},
   "outputs": [
    {
     "name": "stdout",
     "output_type": "stream",
     "text": [
      "3\n",
      "2\n",
      "1\n"
     ]
    }
   ],
   "source": [
    "n_knights = int(input())\n",
    "\n",
    "knights = []\n",
    "for _ in range(n_knights):\n",
    "    health, strength = map(int, input().split())\n",
    "    knights.append([health,strength])\n",
    "for i in range(n_knights - 1):\n",
    "    current_health, current_strength = knights[i]\n",
    "    next_health, next_strength = knights[i + 1]\n",
    "\n",
    "    # Knight i attacks Knight i+1\n",
    "    next_health -= current_strength\n",
    "\n",
    "    if next_health <= 0:\n",
    "        # Knight i+1 is defeated\n",
    "        knights[i + 1][0] = 0  # Set next knight's health to 0\n",
    "    else:\n",
    "        knights[i + 1][0] = next_health\n",
    "        # Knight i+1 counterattacks\n",
    "        current_health -= next_strength\n",
    "        knights[i][0] = max(current_health, 0)  # Update current knight's health\n",
    "\n",
    "        # If the current knight is defeated, they can't continue\n",
    "        if current_health <= 0:\n",
    "            break\n",
    "for health, _ in knights:\n",
    "    print(health)\n",
    "    \n",
    "    \n",
    "\n",
    "\n",
    "    "
   ]
  },
  {
   "cell_type": "markdown",
   "metadata": {},
   "source": [
    "SEQUEEENCE"
   ]
  },
  {
   "cell_type": "code",
   "execution_count": 5,
   "metadata": {},
   "outputs": [
    {
     "name": "stdout",
     "output_type": "stream",
     "text": [
      "['3']\n"
     ]
    }
   ],
   "source": [
    "#[::k]\n",
    "\n",
    "n,k=input().split()\n",
    "n = int(n)\n",
    "k = int(k)\n",
    "seq = input().split()\n",
    "L = seq[k-1 ::k]\n",
    "\n",
    "\n",
    "print(' '.join(L))\n",
    "\n",
    "\n"
   ]
  },
  {
   "cell_type": "code",
   "execution_count": 10,
   "metadata": {},
   "outputs": [
    {
     "ename": "IndexError",
     "evalue": "list assignment index out of range",
     "output_type": "error",
     "traceback": [
      "\u001b[0;31m---------------------------------------------------------------------------\u001b[0m",
      "\u001b[0;31mIndexError\u001b[0m                                Traceback (most recent call last)",
      "Cell \u001b[0;32mIn[10], line 3\u001b[0m\n\u001b[1;32m      1\u001b[0m a\u001b[38;5;241m=\u001b[39m[]\n\u001b[1;32m      2\u001b[0m \u001b[38;5;28;01mfor\u001b[39;00m i \u001b[38;5;129;01min\u001b[39;00m \u001b[38;5;28mrange\u001b[39m(\u001b[38;5;241m10\u001b[39m):\n\u001b[0;32m----> 3\u001b[0m     a[i] \u001b[38;5;241m=\u001b[39m i\u001b[38;5;241m*\u001b[39mi\n",
      "\u001b[0;31mIndexError\u001b[0m: list assignment index out of range"
     ]
    }
   ],
   "source": [
    "a=[]\n",
    "for i in range(10):\n",
    "    a[i] = i*i"
   ]
  },
  {
   "cell_type": "code",
   "execution_count": 13,
   "metadata": {},
   "outputs": [
    {
     "data": {
      "text/plain": [
       "[0]"
      ]
     },
     "execution_count": 13,
     "metadata": {},
     "output_type": "execute_result"
    }
   ],
   "source": [
    "N = -1\n",
    "a = [0] * (N*N)\n",
    "a"
   ]
  },
  {
   "cell_type": "code",
   "execution_count": 15,
   "metadata": {},
   "outputs": [
    {
     "name": "stdout",
     "output_type": "stream",
     "text": [
      "True\n",
      "True\n",
      "True\n",
      "True\n",
      "True\n",
      "True\n"
     ]
    }
   ],
   "source": [
    "a = \"123\"\n",
    "b = \"123\"\n",
    "c = b\n",
    "print(a == b)\n",
    "print(b == c)\n",
    "print(a == c)\n",
    "print(a is b)\n",
    "print(b is c)\n",
    "print(a is c)"
   ]
  },
  {
   "cell_type": "code",
   "execution_count": null,
   "metadata": {},
   "outputs": [],
   "source": []
  }
 ],
 "metadata": {
  "kernelspec": {
   "display_name": "base",
   "language": "python",
   "name": "python3"
  },
  "language_info": {
   "codemirror_mode": {
    "name": "ipython",
    "version": 3
   },
   "file_extension": ".py",
   "mimetype": "text/x-python",
   "name": "python",
   "nbconvert_exporter": "python",
   "pygments_lexer": "ipython3",
   "version": "3.12.8"
  }
 },
 "nbformat": 4,
 "nbformat_minor": 2
}
