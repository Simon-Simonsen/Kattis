{
 "cells": [
  {
   "cell_type": "markdown",
   "metadata": {},
   "source": [
    "Steque with two stacks. Design a steque (a stack-ended queue or steque is a data type\n",
    "that supports push, pop, and enqueue) with two stacks so that each steque operation takes a\n",
    "constant amortized number of stack operations."
   ]
  },
  {
   "cell_type": "code",
   "execution_count": 12,
   "metadata": {},
   "outputs": [
    {
     "data": {
      "text/plain": [
       "deque([0, 1, 2, 3])"
      ]
     },
     "execution_count": 12,
     "metadata": {},
     "output_type": "execute_result"
    }
   ],
   "source": [
    "from collections import deque\n",
    "\n",
    "\n",
    "class Steque():\n",
    "\n",
    "    def __init__(self, elements):\n",
    "        self.elements = deque(elements)\n",
    "        \n",
    "\n",
    "\n",
    "    def enqueue(self, element):\n",
    "\n",
    "        self.elements.appendleft(element)\n",
    "\n",
    "        return self.elements\n",
    "    def pop(self):\n",
    "        self.elements.pop()\n",
    "        return self.elements\n",
    "    def push(self, element):\n",
    "        self.elements.append(element)\n",
    "        return self.elements\n",
    "\n",
    "\n",
    "\n",
    "\n",
    "first = Steque([1,2,3])\n",
    "first.enqueue(0)\n",
    "first.pop()\n",
    "first.push(3)\n",
    "\n",
    "\n",
    "\n",
    "    \n"
   ]
  },
  {
   "cell_type": "code",
   "execution_count": 16,
   "metadata": {},
   "outputs": [
    {
     "name": "stdout",
     "output_type": "stream",
     "text": [
      "[2]\n",
      "[3]\n",
      "[3, 4]\n",
      "[2, 0]\n"
     ]
    },
    {
     "data": {
      "text/plain": [
       "0"
      ]
     },
     "execution_count": 16,
     "metadata": {},
     "output_type": "execute_result"
    }
   ],
   "source": [
    "class StequeTwoStacks:\n",
    "    def __init__(self):\n",
    "        self.front_stack = []\n",
    "        self.back_stack = []\n",
    "\n",
    "    def push(self, x):\n",
    "        self.back_stack.append(x)\n",
    "        return self.back_stack\n",
    "\n",
    "    def enqueue(self, x):\n",
    "        self.front_stack.append(x)\n",
    "        return self.front_stack\n",
    "\n",
    "    def pop(self):\n",
    "        if not self.back_stack:\n",
    "            # Transfer from front_stack to back_stack\n",
    "            while self.front_stack:\n",
    "                self.back_stack.append(self.front_stack.pop())\n",
    "        if not self.back_stack:\n",
    "            raise IndexError(\"Pop from empty steque\")\n",
    "        return self.back_stack.pop()\n",
    "\n",
    "\n",
    "second = StequeTwoStacks()\n",
    "print(second.push(2))\n",
    "print(second.enqueue(3))\n",
    "print(second.enqueue(4))\n",
    "print(second.push(0))\n",
    "second.pop()\n"
   ]
  },
  {
   "cell_type": "code",
   "execution_count": null,
   "metadata": {},
   "outputs": [],
   "source": []
  }
 ],
 "metadata": {
  "kernelspec": {
   "display_name": "base",
   "language": "python",
   "name": "python3"
  },
  "language_info": {
   "codemirror_mode": {
    "name": "ipython",
    "version": 3
   },
   "file_extension": ".py",
   "mimetype": "text/x-python",
   "name": "python",
   "nbconvert_exporter": "python",
   "pygments_lexer": "ipython3",
   "version": "3.12.8"
  }
 },
 "nbformat": 4,
 "nbformat_minor": 2
}
