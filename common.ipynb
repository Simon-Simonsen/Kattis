{
 "cells": [
  {
   "cell_type": "markdown",
   "metadata": {},
   "source": [
    "Design a program that, given two sorted arrays of N int values, prints all\n",
    "elements that appear in both arrays, in sorted order. The running time of your program should\n",
    "be proportional to N in the worst case."
   ]
  },
  {
   "cell_type": "code",
   "execution_count": 49,
   "metadata": {},
   "outputs": [
    {
     "data": {
      "text/plain": [
       "[3, 4]"
      ]
     },
     "execution_count": 49,
     "metadata": {},
     "output_type": "execute_result"
    }
   ],
   "source": [
    "sort_arr = [1,2,3,4]\n",
    "sort_arr2= [3,4,5,6]\n",
    "\n",
    "def common(arr1,arr2):\n",
    "    setarr1 = set(arr1)\n",
    "    commonarr = []\n",
    "    for i in arr2:\n",
    "        if i in setarr1:\n",
    "            commonarr.append(i)\n",
    "    return commonarr\n",
    "\n",
    "common(sort_arr,sort_arr2)\n"
   ]
  },
  {
   "cell_type": "code",
   "execution_count": 50,
   "metadata": {},
   "outputs": [
    {
     "name": "stdout",
     "output_type": "stream",
     "text": [
      "1\n"
     ]
    }
   ],
   "source": [
    "N=2\n",
    "sum = 0\n",
    "i = 1\n",
    "while i < N :\n",
    "    for j in range (0 , i ):\n",
    "        sum += 1\n",
    "    i*=2\n",
    "print(sum)"
   ]
  },
  {
   "cell_type": "code",
   "execution_count": null,
   "metadata": {},
   "outputs": [],
   "source": []
  },
  {
   "cell_type": "code",
   "execution_count": 54,
   "metadata": {},
   "outputs": [
    {
     "name": "stdout",
     "output_type": "stream",
     "text": [
      "18474918\n"
     ]
    }
   ],
   "source": [
    "def fivethree(sequence):\n",
    "    sum = 0\n",
    "    sequence = int(sequence)\n",
    "    for i in range(sequence):\n",
    "        if i % 3 ==0:\n",
    "            sum+=i\n",
    "        elif i % 5==0:\n",
    "            sum +=i\n",
    "    return print(sum)\n",
    "\n",
    "inp = int(input())\n",
    "fivethree(inp)"
   ]
  },
  {
   "cell_type": "code",
   "execution_count": 57,
   "metadata": {},
   "outputs": [
    {
     "name": "stdout",
     "output_type": "stream",
     "text": [
      "233333333166666668\n"
     ]
    }
   ],
   "source": [
    "def multi(k,n):\n",
    "    m =(n-1)//k\n",
    "    return k*m*(m+1)//2\n",
    "\n",
    "def fivethree(sequence):\n",
    "    sequence = int(sequence)\n",
    "    sum_3 = multi(3, sequence)\n",
    "    sum_5 = multi(5, sequence)\n",
    "    sum_15 = multi(15, sequence)\n",
    "    total = sum_3 + sum_5 - sum_15\n",
    "    return print(total)\n",
    "\n",
    "inp = int(input())\n",
    "\n",
    "fivethree(inp)"
   ]
  },
  {
   "cell_type": "code",
   "execution_count": 62,
   "metadata": {},
   "outputs": [
    {
     "ename": "TypeError",
     "evalue": "cannot convert dictionary update sequence element #0 to a sequence",
     "output_type": "error",
     "traceback": [
      "\u001b[0;31m---------------------------------------------------------------------------\u001b[0m",
      "\u001b[0;31mTypeError\u001b[0m                                 Traceback (most recent call last)",
      "Cell \u001b[0;32mIn[62], line 6\u001b[0m\n\u001b[1;32m      3\u001b[0m height \u001b[38;5;241m=\u001b[39m \u001b[38;5;28mint\u001b[39m(height)\n\u001b[1;32m      4\u001b[0m seq \u001b[38;5;241m=\u001b[39m [\u001b[38;5;241m1\u001b[39m,\u001b[38;5;241m5\u001b[39m,\u001b[38;5;241m3\u001b[39m,\u001b[38;5;241m3\u001b[39m,\u001b[38;5;241m5\u001b[39m,\u001b[38;5;241m1\u001b[39m]\n\u001b[0;32m----> 6\u001b[0m seq \u001b[38;5;241m=\u001b[39m \u001b[38;5;28mdict\u001b[39m(seq)\n",
      "\u001b[0;31mTypeError\u001b[0m: cannot convert dictionary update sequence element #0 to a sequence"
     ]
    }
   ],
   "source": [
    "length, height = input().split()\n",
    "length = int(length)\n",
    "height = int(height)\n",
    "seq = [1,5,3,3,5,1]\n",
    "\n",
    " "
   ]
  },
  {
   "cell_type": "code",
   "execution_count": null,
   "metadata": {},
   "outputs": [],
   "source": []
  }
 ],
 "metadata": {
  "kernelspec": {
   "display_name": "base",
   "language": "python",
   "name": "python3"
  },
  "language_info": {
   "codemirror_mode": {
    "name": "ipython",
    "version": 3
   },
   "file_extension": ".py",
   "mimetype": "text/x-python",
   "name": "python",
   "nbconvert_exporter": "python",
   "pygments_lexer": "ipython3",
   "version": "3.12.8"
  }
 },
 "nbformat": 4,
 "nbformat_minor": 2
}
