{
 "cells": [
  {
   "cell_type": "code",
   "execution_count": 19,
   "metadata": {},
   "outputs": [
    {
     "name": "stdout",
     "output_type": "stream",
     "text": [
      "[-1, -1, -1]\n",
      "deque([0])\n",
      "1\n"
     ]
    }
   ],
   "source": [
    "from collections import deque \n",
    "    \n",
    "n, m = map(int, input().split())\n",
    "graph = {i: [] for i in range(n+1)} # List comprehension on dict(we use adj list)\n",
    "edge_types = {}\n",
    "for _ in range(m):\n",
    "    u,v,c=map(int, input().split())\n",
    "    graph[u].append(v)\n",
    "    graph[v].append(u) # its undirected graph, so they are both connect both ways(we initiliaze it as a directed, but with direction in both ways)\n",
    "    edge_types[(u,v)] = c\n",
    "    edge_types[(v,u)] = c\n",
    "\n",
    "\n",
    "def is_2_colored():\n",
    "    color = [-1]*(n+1)\n",
    "    print(color)\n",
    "\n",
    "    for start in range(n):\n",
    "        if color[start] == -1:\n",
    "            queue = deque([start])      \n",
    "            color[start] =0\n",
    "            while queue:\n",
    "                node = queue.popleft()\n",
    "                for neighbor in graph[node]:\n",
    "                    edge_type = edge_types[(node, neighbor)]\n",
    "\n",
    "                    if color[neighbor] == -1:\n",
    "                        color[neighbor] = color[node] if edge_type == 0 else 1 - color[node]\n",
    "                        queue.append(neighbor)\n",
    "                    else:\n",
    "                        if (edge_type == 1 and color[neighbor] == color[node]) or \\\n",
    "                           (edge_type == 0 and color[neighbor] != color[node]):\n",
    "                            return 0\n",
    "    return 1\n",
    "print(is_2_colored())"
   ]
  },
  {
   "cell_type": "code",
   "execution_count": null,
   "metadata": {},
   "outputs": [],
   "source": []
  },
  {
   "cell_type": "code",
   "execution_count": null,
   "metadata": {},
   "outputs": [],
   "source": []
  }
 ],
 "metadata": {
  "kernelspec": {
   "display_name": "base",
   "language": "python",
   "name": "python3"
  },
  "language_info": {
   "codemirror_mode": {
    "name": "ipython",
    "version": 3
   },
   "file_extension": ".py",
   "mimetype": "text/x-python",
   "name": "python",
   "nbconvert_exporter": "python",
   "pygments_lexer": "ipython3",
   "version": "3.12.8"
  }
 },
 "nbformat": 4,
 "nbformat_minor": 2
}
